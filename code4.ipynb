{
  "nbformat": 4,
  "nbformat_minor": 0,
  "metadata": {
    "colab": {
      "provenance": [],
      "authorship_tag": "ABX9TyPo5YYYzKG3url2qluN2fIw",
      "include_colab_link": true
    },
    "kernelspec": {
      "name": "python3",
      "display_name": "Python 3"
    },
    "language_info": {
      "name": "python"
    }
  },
  "cells": [
    {
      "cell_type": "markdown",
      "metadata": {
        "id": "view-in-github",
        "colab_type": "text"
      },
      "source": [
        "<a href=\"https://colab.research.google.com/github/venkatakrishnan836/AI-Freshness-Inspector/blob/main/code4.ipynb\" target=\"_parent\"><img src=\"https://colab.research.google.com/assets/colab-badge.svg\" alt=\"Open In Colab\"/></a>"
      ]
    },
    {
      "cell_type": "code",
      "execution_count": null,
      "metadata": {
        "id": "3V2rkWva5xAw"
      },
      "outputs": [],
      "source": [
        "from sklearn import datasets\n",
        "digits = datasets.load_digits()\n",
        "print(digits.DESCR)"
      ]
    },
    {
      "cell_type": "code",
      "source": [
        "x = digits.data\n",
        "y = digits.target"
      ],
      "metadata": {
        "id": "JKECQANX8HW-"
      },
      "execution_count": null,
      "outputs": []
    },
    {
      "cell_type": "code",
      "source": [
        "import pandas as pd\n",
        "df = pd.DataFrame(data = y, columns = ['targets'])"
      ],
      "metadata": {
        "id": "-5Y8aZU68J_O"
      },
      "execution_count": null,
      "outputs": []
    },
    {
      "cell_type": "code",
      "source": [
        "x.shape"
      ],
      "metadata": {
        "id": "owrykMa58Qm2"
      },
      "execution_count": null,
      "outputs": []
    },
    {
      "cell_type": "code",
      "source": [
        "y.shape"
      ],
      "metadata": {
        "id": "vS-AnB7U8SYl"
      },
      "execution_count": null,
      "outputs": []
    },
    {
      "cell_type": "code",
      "source": [
        "digits.images.shape"
      ],
      "metadata": {
        "id": "q8t8WNV28UNm"
      },
      "execution_count": null,
      "outputs": []
    },
    {
      "cell_type": "code",
      "source": [
        "digits.images[0]"
      ],
      "metadata": {
        "id": "dIKSESPW8Z-F"
      },
      "execution_count": null,
      "outputs": []
    },
    {
      "cell_type": "code",
      "source": [
        "import matplotlib.pyplot as plt\n",
        "plt.imshow(digits.images[0], cmap = plt.cm.gray_r)\n",
        "plt.axis(\"off\")\n",
        "plt.title('Number: ' + str(y[0]))\n",
        "None"
      ],
      "metadata": {
        "id": "lfRaRym28a9G"
      },
      "execution_count": null,
      "outputs": []
    },
    {
      "cell_type": "code",
      "source": [
        "figure, axes = plt.subplots(3,10, figsize = (15,6))\n",
        "for ax, image, number in zip(axes.ravel(), digits.images, y):\n",
        "  ax.axis('off')\n",
        "  ax.imshow(image, cmap = plt.cm.gray_r)\n",
        "  ax.set_title('Number: ' + str(number))"
      ],
      "metadata": {
        "id": "M0OKFuNV8hwO"
      },
      "execution_count": null,
      "outputs": []
    },
    {
      "cell_type": "code",
      "source": [
        "image = digits.images[0]\n",
        "print('original image data = ')\n",
        "print(image)\n",
        "print()\n",
        "\n",
        "image_flattended = image.ravel()\n",
        "print('flattended image = ')\n",
        "print(image_flattended)\n",
        "print()\n",
        "\n",
        "print('feature data for a sample=')\n",
        "print(x[0])\n",
        "print()\n",
        "\n",
        "print('feature data for all samples is a 8-by-8 two dimensional array=')\n",
        "print(x)"
      ],
      "metadata": {
        "id": "BewMhJjM8l3t"
      },
      "execution_count": null,
      "outputs": []
    },
    {
      "cell_type": "code",
      "source": [
        "from sklearn.model_selection import train_test_split\n",
        "X_train, X_test, y_train, y_test = train_test_split(x, y, test_size=0.33, random_state=99, stratify = y)"
      ],
      "metadata": {
        "id": "r4zePAoW8qx8"
      },
      "execution_count": null,
      "outputs": []
    },
    {
      "cell_type": "code",
      "source": [
        "X_train.shape\n",
        "X_test.shape\n",
        "y_train.shape\n",
        "y_test.shape"
      ],
      "metadata": {
        "id": "NF4rj_bs8ruN"
      },
      "execution_count": null,
      "outputs": []
    },
    {
      "cell_type": "code",
      "source": [
        "from sklearn.neighbors import KNeighborsClassifier\n",
        "knn = KNeighborsClassifier(n_neighbors=3)\n",
        "knn.fit(X_train, y_train)"
      ],
      "metadata": {
        "id": "9GK_sCGx9apk"
      },
      "execution_count": null,
      "outputs": []
    },
    {
      "cell_type": "code",
      "source": [
        "y_pred = knn.predict(X_test)\n",
        "y_pred"
      ],
      "metadata": {
        "id": "1bOTEqnE9e1t"
      },
      "execution_count": null,
      "outputs": []
    },
    {
      "cell_type": "code",
      "source": [
        "from sklearn.metrics import classification_report\n",
        "report = classification_report(y_test, y_pred)\n",
        "print(report)"
      ],
      "metadata": {
        "id": "a4aHSOh-9gMM"
      },
      "execution_count": null,
      "outputs": []
    },
    {
      "cell_type": "code",
      "source": [
        "from sklearn.metrics import confusion_matrix\n",
        "confusion = confusion_matrix(y_true = y_test, y_pred = y_pred)\n",
        "confusion"
      ],
      "metadata": {
        "id": "KBxdUGAo9jRt"
      },
      "execution_count": null,
      "outputs": []
    },
    {
      "cell_type": "code",
      "source": [
        "import seaborn as sns\n",
        "s = sns.heatmap(confusion, annot = True, cmap = 'nipy_spectral_r')\n",
        "s.set_title('Confusion matrix for MNIST dataset')\n",
        "None"
      ],
      "metadata": {
        "id": "obMq1Yt79mAk"
      },
      "execution_count": null,
      "outputs": []
    },
    {
      "cell_type": "code",
      "source": [
        "acc = knn.score(X_test, y_test)\n",
        "print(f'accuracy from knn.score = {acc:.4}')\n",
        "from sklearn import metrics\n",
        "acc = metrics.accuracy_score(y_test, y_pred)\n",
        "print(f'accuracy from metrics.accuracy_score = {acc:.4}')"
      ],
      "metadata": {
        "id": "nx_51Jdp9pmj"
      },
      "execution_count": null,
      "outputs": []
    },
    {
      "cell_type": "code",
      "source": [
        "acc = metrics.balanced_accuracy_score(y_test, y_pred)\n",
        "print(f'accuracy = {acc:.4}')"
      ],
      "metadata": {
        "id": "-CGNLo_B9sjt"
      },
      "execution_count": null,
      "outputs": []
    }
  ]
}